{
  "nbformat": 4,
  "nbformat_minor": 0,
  "metadata": {
    "colab": {
      "provenance": [],
      "authorship_tag": "ABX9TyN+ShzkSKlTf2xLa4wlseJu",
      "include_colab_link": true
    },
    "kernelspec": {
      "name": "python3",
      "display_name": "Python 3"
    },
    "language_info": {
      "name": "python"
    }
  },
  "cells": [
    {
      "cell_type": "markdown",
      "metadata": {
        "id": "view-in-github",
        "colab_type": "text"
      },
      "source": [
        "<a href=\"https://colab.research.google.com/github/shinevic/clases-de-Python/blob/main/03_Strings.ipynb\" target=\"_parent\"><img src=\"https://colab.research.google.com/assets/colab-badge.svg\" alt=\"Open In Colab\"/></a>"
      ]
    },
    {
      "cell_type": "code",
      "execution_count": null,
      "metadata": {
        "id": "XdBTr5ijhaOL"
      },
      "outputs": [],
      "source": [
        "letra = 'P'\n",
        "print(letra)\n",
        "print(len(letra))\n",
        "saludo = 'Hello, World!'\n",
        "print(saludo)\n",
        "print(len(saludo))\n",
        "oracion = 'I hpoe you are enjoying 30 days of Python challenge'\n",
        "print(oracion)\n",
        "print(len(oracion))\n"
      ]
    },
    {
      "cell_type": "code",
      "source": [
        "multiline_string = \"\"\"Pac man originalmente se lamaba Puck man.\n",
        "Lo cambiaron no porque Pac-Man fuera redondo.\n",
        "Paku Paku significa abrin y cerrar la boca y tuvieron miedo de que la gente tachara la 'P' y \n",
        "la convirtiera en 'F'.\"\"\"\"\n",
        "print(multiline_string)"
      ],
      "metadata": {
        "id": "CvFO1HleiK7k"
      },
      "execution_count": null,
      "outputs": []
    },
    {
      "cell_type": "code",
      "source": [
        "print('Este es unn ejemplo de salto de la linea.\\n ¿Lo notas?')\n",
        "print('Dias\\tTemas\\tEjercicios')\n",
        "print('Dia 1\\t3\\t5')\n",
        "print('Dia 2\\t3\\t5')\n",
        "print('Dia 3\\t3\\t5')\n",
        "print('Dia 4\\t3\\t5')\n",
        "print('Este es un simbolo backlash (\\\\)')\n",
        "print('In every programming language it stars with \\\"Hello, world!\\\"')"
      ],
      "metadata": {
        "id": "UccySvAHjqSx"
      },
      "execution_count": null,
      "outputs": []
    },
    {
      "cell_type": "code",
      "source": [
        "name, surname, alias, age = \"Victor\", \"Villa\", \"Vicman\", 22\n",
        "print(\"Me llamo:\", name, surname)\n",
        "print(\"Mi edad es:\", age, \"Mis amigos me dicen;:\", alias)"
      ],
      "metadata": {
        "id": "mPKu2rzkk_X4"
      },
      "execution_count": null,
      "outputs": []
    },
    {
      "cell_type": "code",
      "source": [
        "print(\"mi nombre es {} {} y mi edad es {}\". format(name, surname, age))\n",
        "print(\"Mi nombre es %s %s y mi edad es %d\" %(name, surname, age))\n",
        "print(f\"Mi nombre es {name} {surname} y mi edad es {age}\") #esta es la mejor, la mas aceptada"
      ],
      "metadata": {
        "id": "LBNlHgfclf81"
      },
      "execution_count": null,
      "outputs": []
    },
    {
      "cell_type": "code",
      "source": [
        "lenguaje = 'Python'\n",
        "a,b,c,d,e,f = lenguaje\n",
        "print(a)\n",
        "print(b)\n",
        "print(c)\n",
        "print(d)\n",
        "print(e)\n",
        "print(f)"
      ],
      "metadata": {
        "id": "3mFSV2x2mcF2"
      },
      "execution_count": null,
      "outputs": []
    },
    {
      "cell_type": "code",
      "source": [
        "primer_letra = lenguaje[0]\n",
        "segunda_letra = lenguaje[1]\n",
        "tercer_letra = lenguaje[2]\n",
        "print(primer_letra)\n",
        "print(segunda_letra)\n",
        "print(tercer_letra)"
      ],
      "metadata": {
        "id": "ziGV5QzFoQB-"
      },
      "execution_count": null,
      "outputs": []
    },
    {
      "cell_type": "code",
      "source": [
        "lenguaje = 'Python'\n",
        "primeros_tres = lenguaje[0:3]\n",
        "print(primeros_tres)\n",
        "\n",
        "ultimos_tres = lenguaje[3:6]\n",
        "print(ultimos_tres)\n",
        "\n",
        "ultimos_tres = lenguaje[-3:]\n",
        "print(ultimos_tres)\n",
        "primeros_tres = lenguaje[:3]\n",
        "print(primeros_tres)\n"
      ],
      "metadata": {
        "id": "eOdMVgiQo5ZD"
      },
      "execution_count": null,
      "outputs": []
    },
    {
      "cell_type": "code",
      "source": [
        "saludo = 'Hello, World'\n",
        "print(saludo[::-1])"
      ],
      "metadata": {
        "id": "kcmZkRwBqU66"
      },
      "execution_count": null,
      "outputs": []
    },
    {
      "cell_type": "code",
      "source": [
        "lenguaje = 'Python'\n",
        "new = lenguaje[0:6:2]\n",
        "print(new)"
      ],
      "metadata": {
        "id": "jxJf4vvDqmKo"
      },
      "execution_count": null,
      "outputs": []
    },
    {
      "cell_type": "code",
      "source": [
        "text = 'aprendiendo python en clase' #con + se pueden concatenar\n",
        "print(text.capitalize())"
      ],
      "metadata": {
        "id": "M2omyovPq32-"
      },
      "execution_count": null,
      "outputs": []
    },
    {
      "cell_type": "code",
      "source": [
        "text = 'aprendiendo python en clase'\n",
        "print(text.count('a'))\n",
        "print(text.count('y', 7, 14))\n",
        "print(text.count('en'))"
      ],
      "metadata": {
        "id": "Di_pOXKvr7Fe"
      },
      "execution_count": null,
      "outputs": []
    },
    {
      "cell_type": "code",
      "source": [
        "text = 'aprendiendo python en clase'\n",
        "print(text.find('y'))\n",
        "print(text.find('th'))\n",
        "print(text.find('am'))"
      ],
      "metadata": {
        "id": "V-bPzVkIsS7u"
      },
      "execution_count": null,
      "outputs": []
    },
    {
      "cell_type": "markdown",
      "source": [
        "**ACTIVIDAD**\n",
        "\n",
        "Genera palindromos y comprueba que efectivamente lo son"
      ],
      "metadata": {
        "id": "Muc4hsL2s52D"
      }
    },
    {
      "cell_type": "code",
      "source": [
        "frase = (input('Ingresa el palindromo'))\n",
        "print(frase[::-1])"
      ],
      "metadata": {
        "id": "ztMkXGwFtDyv"
      },
      "execution_count": null,
      "outputs": []
    }
  ]
}